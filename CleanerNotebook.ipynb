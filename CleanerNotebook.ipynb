{
  "nbformat": 4,
  "nbformat_minor": 5,
  "metadata": {
    "kernelspec": {
      "display_name": "NewEnV",
      "language": "python",
      "name": "newenv"
    },
    "language_info": {
      "codemirror_mode": {
        "name": "ipython",
        "version": 3
      },
      "file_extension": ".py",
      "mimetype": "text/x-python",
      "name": "python",
      "nbconvert_exporter": "python",
      "pygments_lexer": "ipython3",
      "version": "3.7.10"
    },
    "colab": {
      "name": "CleanerNotebook.ipynb",
      "provenance": [],
      "collapsed_sections": [],
      "include_colab_link": true
    }
  },
  "cells": [
    {
      "cell_type": "markdown",
      "metadata": {
        "id": "view-in-github",
        "colab_type": "text"
      },
      "source": [
        "<a href=\"https://colab.research.google.com/github/madhushrirajagopal/120-Data-Science-Interview-Questions/blob/master/CleanerNotebook.ipynb\" target=\"_parent\"><img src=\"https://colab.research.google.com/assets/colab-badge.svg\" alt=\"Open In Colab\"/></a>"
      ]
    },
    {
      "cell_type": "code",
      "metadata": {
        "id": "intense-dining"
      },
      "source": [
        "#Import statements \n",
        "import pandas as pd\n",
        "import numpy as np\n",
        "import string\n",
        "from time import time\n",
        "\n",
        "#DigitalDonations\n",
        "Donations = pd.read_csv('AllDonations.csv',low_memory=False)\n",
        "DisplayNonVideo = pd.read_csv('DisplayNonVideo.csv',low_memory=False)\n",
        "DisplayVideo = pd.read_csv('DisplayVideo.csv',low_memory=False)\n",
        "DoorToDoor = pd.read_csv('DoorToDoor.csv',low_memory=False)\n",
        "Email = pd.read_csv('Email.csv',low_memory=False)\n",
        "GoogleAnalytics = pd.read_csv('GoogleAnalytics.csv',low_memory=False)\n",
        "GoogleVideoYouTube = pd.read_csv('GoogleVideoYouTube.csv',low_memory=False)\n",
        "PaidSearch = pd.read_csv('PaidSearch.csv',low_memory=False)\n",
        "Social = pd.read_csv('SocialFB.csv',low_memory=False)\n",
        "TV = pd.read_csv('TV.csv',low_memory=False)\n",
        "Radio = pd.read_csv('TraditionalRadioImp.csv',low_memory=False)\n",
        "Week = pd.read_csv('Week.csv',low_memory=False)\n",
        "OOH = pd.read_csv('OOH.csv')"
      ],
      "id": "intense-dining",
      "execution_count": 85,
      "outputs": []
    },
    {
      "cell_type": "code",
      "metadata": {
        "id": "AWq2NdCWaHir"
      },
      "source": [
        "DonationsFilter = Donations.filter(['Week','Donation_Amount'],axis = 1)\r\n",
        "DonationsGrouped = DonationsFilter.groupby(['Week'],as_index=False,sort=False).sum()\r\n",
        "DonationsGrouped.rename(columns = {'Donation_Amount':'Donations'}, inplace=True)\r\n",
        "\r\n",
        "DisplayNonVideoFilter = DisplayNonVideo.filter(['Week','Spend',' Impressions '],axis = 1)\r\n",
        "DisplayNonVideoGrouped = DisplayNonVideoFilter.groupby(['Week'],as_index=False,sort=False).sum()\r\n",
        "DisplayNonVideoGrouped.rename(columns = {'Spend':'DisplayNonVideoSpend',' Impressions ':'DisplayNonVideoImpressions'}, inplace=True)\r\n",
        "\r\n",
        "DisplayVideoFilter = DisplayVideo.filter(['Week','Spend','Impressions '],axis = 1)\r\n",
        "DisplayVideoGrouped = DisplayVideoFilter.groupby(['Week'],as_index=False,sort=False).sum()\r\n",
        "DisplayVideoGrouped.rename(columns = {'Spend':'DisplayVideoSpend','Impressions ':'DisplayVideoImpressions'}, inplace=True)\r\n",
        "\r\n",
        "DoorToDoorFilter = DoorToDoor.filter([' Week ',' Spend ',' Total Hours '],axis = 1)\r\n",
        "DoorToDoorGrouped = DoorToDoorFilter.groupby([' Week '],as_index=False,sort=False).sum()\r\n",
        "DoorToDoorGrouped.rename(columns = {' Spend ':'DoorToDoorSpend',' Total Hours ':'DoorToDoorHours'}, inplace=True)\r\n",
        "\r\n",
        "EmailFilter = Email.filter(['Week','Opens (unique)'],axis = 1)\r\n",
        "EmailGrouped = EmailFilter.groupby(['Week'],as_index=False,sort=False).sum()\r\n",
        "EmailGrouped.rename(columns = {'Opens (unique)':'EmailOpens'}, inplace=True)\r\n",
        "\r\n",
        "GoogleAnalyticsFilter = GoogleAnalytics.filter(['Week','Users','Sessions','Transactions'],axis = 1)\r\n",
        "GoogleAnalyticsGrouped = GoogleAnalyticsFilter.groupby(['Week'],as_index=False,sort=False).sum()\r\n",
        "GoogleAnalyticsGrouped.rename(columns = {'Users':'GAUsers'}, inplace=True)\r\n",
        "\r\n",
        "GoogleVideoYouTubeFilter = GoogleVideoYouTube.filter(['Week','Impressions','Cost','Total Revenue'],axis = 1)\r\n",
        "GoogleVideoYouTubeGrouped = GoogleVideoYouTubeFilter.groupby(['Week'],as_index=False,sort=False).sum()\r\n",
        "GoogleVideoYouTubeGrouped.rename(columns = {'Cost':'YouTubeSpend','Impressions':'YouTubeImpressions'}, inplace=True)\r\n",
        "\r\n",
        "PaidSearchFilter = PaidSearch.filter(['Week','Impr','Clicks','Cost','Total Revenue'],axis = 1)\r\n",
        "PaidSearchGrouped = PaidSearchFilter.groupby(['Week'],as_index=False,sort=False).sum()\r\n",
        "PaidSearchGrouped.rename(columns = {'Cost':'SearchSpend','Clicks':'SearchClicks','Impr':'SearchImpressions'}, inplace=True)\r\n",
        "\r\n",
        "SocialFilter = Social.filter(['Week','Impressions','Spend','PurchaseRevenue'],axis = 1)\r\n",
        "SocialGrouped = SocialFilter.groupby(['Week'],as_index=False,sort=False).sum()\r\n",
        "PaidSearchGrouped.rename(columns = {'Cost':'SearchSpend','Clicks':'SearchClicks','Impr':'SearchImpressions'}, inplace=True)\r\n",
        "\r\n",
        "TVFilter = TV.filter(['Week','Post Imp (000)','Spend'],axis = 1)\r\n",
        "TVGrouped = TVFilter.groupby(['Week'],as_index=False,sort=False).sum()\r\n",
        "TVGrouped.rename(columns = {'Spend':'TVSpend','Post Imp (000)':'TVImpressions'}, inplace=True)\r\n",
        "\r\n",
        "RadioFilter = Radio.filter(['Week ','Post FC Imp (000)','Spend'],axis = 1)\r\n",
        "RadioGrouped = RadioFilter.groupby(['Week '],as_index=False,sort=False).sum()\r\n",
        "RadioGrouped.rename(columns = {'Spend':'RadioSpend','Post FC Imp (000)':'RadioImpressions'}, inplace=True)\r\n",
        "\r\n",
        "OOHFilter = OOH.filter(['Week','Impressions','Spend'],axis = 1)\r\n",
        "OOHGrouped = OOHFilter.groupby(['Week'],as_index=False,sort=False).sum()\r\n",
        "OOHGrouped.rename(columns = {'Spend':'OOHSpend','Impressions':'OOHImpressions'}, inplace=True)"
      ],
      "id": "AWq2NdCWaHir",
      "execution_count": 111,
      "outputs": []
    },
    {
      "cell_type": "code",
      "metadata": {
        "colab": {
          "base_uri": "https://localhost:8080/",
          "height": 419
        },
        "id": "ZFu8noM_jeLR",
        "outputId": "07224301-09e7-4a8b-9fec-71b22bf48e9c"
      },
      "source": [
        "Merge1 = pd.merge(Week,DonationsGrouped,left_on=['Week'],right_on=['Week'],how='left')\r\n",
        "Merge2 = pd.merge()"
      ],
      "id": "ZFu8noM_jeLR",
      "execution_count": 115,
      "outputs": [
        {
          "output_type": "execute_result",
          "data": {
            "text/html": [
              "<div>\n",
              "<style scoped>\n",
              "    .dataframe tbody tr th:only-of-type {\n",
              "        vertical-align: middle;\n",
              "    }\n",
              "\n",
              "    .dataframe tbody tr th {\n",
              "        vertical-align: top;\n",
              "    }\n",
              "\n",
              "    .dataframe thead th {\n",
              "        text-align: right;\n",
              "    }\n",
              "</style>\n",
              "<table border=\"1\" class=\"dataframe\">\n",
              "  <thead>\n",
              "    <tr style=\"text-align: right;\">\n",
              "      <th></th>\n",
              "      <th>Week</th>\n",
              "      <th>Donations</th>\n",
              "    </tr>\n",
              "  </thead>\n",
              "  <tbody>\n",
              "    <tr>\n",
              "      <th>0</th>\n",
              "      <td>1/1/2017</td>\n",
              "      <td>69241.0</td>\n",
              "    </tr>\n",
              "    <tr>\n",
              "      <th>1</th>\n",
              "      <td>1/8/2017</td>\n",
              "      <td>86584.0</td>\n",
              "    </tr>\n",
              "    <tr>\n",
              "      <th>2</th>\n",
              "      <td>1/15/2017</td>\n",
              "      <td>58149.0</td>\n",
              "    </tr>\n",
              "    <tr>\n",
              "      <th>3</th>\n",
              "      <td>1/22/2017</td>\n",
              "      <td>39868.0</td>\n",
              "    </tr>\n",
              "    <tr>\n",
              "      <th>4</th>\n",
              "      <td>1/29/2017</td>\n",
              "      <td>61136.0</td>\n",
              "    </tr>\n",
              "    <tr>\n",
              "      <th>...</th>\n",
              "      <td>...</td>\n",
              "      <td>...</td>\n",
              "    </tr>\n",
              "    <tr>\n",
              "      <th>208</th>\n",
              "      <td>11/29/2020</td>\n",
              "      <td>NaN</td>\n",
              "    </tr>\n",
              "    <tr>\n",
              "      <th>209</th>\n",
              "      <td>12/6/2020</td>\n",
              "      <td>NaN</td>\n",
              "    </tr>\n",
              "    <tr>\n",
              "      <th>210</th>\n",
              "      <td>12/13/2020</td>\n",
              "      <td>NaN</td>\n",
              "    </tr>\n",
              "    <tr>\n",
              "      <th>211</th>\n",
              "      <td>12/20/2020</td>\n",
              "      <td>NaN</td>\n",
              "    </tr>\n",
              "    <tr>\n",
              "      <th>212</th>\n",
              "      <td>12/27/2020</td>\n",
              "      <td>NaN</td>\n",
              "    </tr>\n",
              "  </tbody>\n",
              "</table>\n",
              "<p>213 rows × 2 columns</p>\n",
              "</div>"
            ],
            "text/plain": [
              "           Week  Donations\n",
              "0      1/1/2017    69241.0\n",
              "1      1/8/2017    86584.0\n",
              "2     1/15/2017    58149.0\n",
              "3     1/22/2017    39868.0\n",
              "4     1/29/2017    61136.0\n",
              "..          ...        ...\n",
              "208  11/29/2020        NaN\n",
              "209   12/6/2020        NaN\n",
              "210  12/13/2020        NaN\n",
              "211  12/20/2020        NaN\n",
              "212  12/27/2020        NaN\n",
              "\n",
              "[213 rows x 2 columns]"
            ]
          },
          "metadata": {
            "tags": []
          },
          "execution_count": 115
        }
      ]
    },
    {
      "cell_type": "code",
      "metadata": {
        "id": "vk3e6MRC4SyE"
      },
      "source": [
        "\r\n",
        "RadioFilter = Radio.filter(['Week ','Post FC Imp (000)','Spend'],axis = 1)\r\n",
        "RadioGrouped = RadioFilter.groupby(['Week '],as_index=False,sort=False).sum()\r\n"
      ],
      "id": "vk3e6MRC4SyE",
      "execution_count": 80,
      "outputs": []
    },
    {
      "cell_type": "code",
      "metadata": {
        "colab": {
          "base_uri": "https://localhost:8080/"
        },
        "id": "dfRF2NRN4KW7",
        "outputId": "c092bc64-d036-489b-9b66-807fd9497368"
      },
      "source": [
        "list(OOH.columns)"
      ],
      "id": "dfRF2NRN4KW7",
      "execution_count": 109,
      "outputs": [
        {
          "output_type": "execute_result",
          "data": {
            "text/plain": [
              "['WeekDate',\n",
              " ' Product ',\n",
              " ' Channel ',\n",
              " ' Marketing Objective ',\n",
              " ' Ad Type ',\n",
              " ' Creative Name ',\n",
              " ' Market ',\n",
              " 'Old',\n",
              " ' Impressions ',\n",
              " ' Attendance ',\n",
              " 'Week',\n",
              " 'Spend',\n",
              " 'Impressions']"
            ]
          },
          "metadata": {
            "tags": []
          },
          "execution_count": 109
        }
      ]
    },
    {
      "cell_type": "code",
      "metadata": {
        "id": "GU9lRBlq4JJX"
      },
      "source": [
        ""
      ],
      "id": "GU9lRBlq4JJX",
      "execution_count": null,
      "outputs": []
    },
    {
      "cell_type": "code",
      "metadata": {
        "id": "Qdh6wQJKYLOz"
      },
      "source": [
        "DDNE =DD[DD['Income_Type_Desc']!=\"Emergency                     \"]\r\n",
        "DDNE[DDNE[\"Donation_Amount\"]>= 10000]\r\n",
        "DDNEGrouped =  DDNE.filter(['Donation_Deposit_Date','Donation_Amount','Motivation_Desc'],axis=1)\r\n",
        "DDNEToFilter = DDNEGrouped.groupby(['Donation_Deposit_Date','Motivation_Desc'],as_index=False, sort = False).sum()\r\n",
        "DDNE4 = DDNEToFilter[DDNEToFilter['Donation_Amount'] <= 50000]\r\n",
        "DDNE5 = DDNE4.groupby(['Donation_Deposit_Date'],as_index=False, sort = False).sum()\r\n",
        "DDMT = DDM.groupby(['Week'],as_index=False, sort = False).sum()\r\n",
        "FBC = FBFilter[(FBFilter['Campaign']!='Love Campaign - Website Clicks')& (FBFilter['Campaign']!='Campaign A: Non-Optimized Video')\r\n",
        "               &(FBFilter['Campaign']!='East Africa Emergency Match Version 2')\r\n",
        "              &(FBFilter['Campaign']!='Typhoon Mangkhut emergency')\r\n",
        "              &(FBFilter['Campaign']!='Campaign B: MobileWorks Video')]\r\n",
        "FBF = FBC.filter(['Week','Impressions','Spend'],axis=1)\r\n",
        "FBFil = FBF.groupby(['Week'],as_index=False, sort = False).sum()\r\n",
        "SF = SearchFilter.filter(['Week','Clicks','Spend'],axis=1)\r\n",
        "SFFil = SF.groupby(['Week'],as_index=False, sort = False).sum()\r\n",
        "YT = YTFilter.filter(['Week','Impressions','Cost'],axis=1)\r\n",
        "YTFil = YT.groupby(['Week'],as_index=False, sort = False).sum()\r\n",
        "YTFil.to_csv(r'C:\\Users\\madhu.rajagopalan\\OneDrive - insidemedia.net\\Desktop\\Links & Documents\\World Vision Canada\\Data\\Cleaned Files\\Facebook\\YMT.csv')\r\n",
        "DigNV  = Dig.filter([' Date ',' Impressions '],axis=1)\r\n",
        "DNVTFil = DigNV.groupby([' Date '],as_index=False, sort = False).sum()\r\n",
        "DT = DiGVidFilter.filter(['Week','Impressions '],axis=1)\r\n",
        "DTFil = DT.groupby(['Week'],as_index=False, sort = False).sum()\r\n",
        "DVNTRR  = DVNTR.filter(['Week','Impressions'],axis=1)\r\n",
        "DVNTFil = DVNTRR.groupby(['Week'],as_index=False, sort = False).sum()\r\n",
        "DNW = DN.filter(['Week','Donation_Amount'],axis=1)\r\n",
        "DNWFil =  DNW.groupby(['Week'],as_index=False, sort = False).sum()\r\n",
        "DNWFil\r\n",
        "DN =pd.read_csv(r'C:\\Users\\madhu.rajagopalan\\OneDrive - insidemedia.net\\Desktop\\Links & Documents\\World Vision Canada\\WVC\\AllDonations.csv')\r\n",
        "DNI = DN[(DN['Designation_Id']!=100438) & (DN['Designation_Id']!=102848)&(DN['Designation_Id']!=104588)&\r\n",
        "         (DN['Designation_Id']!=106179)&\r\n",
        "         (DN['Designation_Id']!=106690) & (DN['Designation_Id']!=107011)&(DN['Designation_Id']!=90878)&\r\n",
        "         (DN['Designation_Id']!=108753) & (DN['Donation_Amount']<=40000) & (DN['Donation_Deposit_Date']>='2017-01-01')\r\n",
        "    \r\n",
        "        ]\r\n",
        "UDI = UD.filter(['Week','Donation_Amount'],axis=1)\r\n",
        "UDFil = UDI.groupby(['Week'],as_index=False, sort = False).sum()\r\n",
        "UDFil\r\n",
        "import matplotlib.pyplot as plt\r\n",
        "fig, ax = plt.subplots(figsize=(16,8))\r\n",
        "ax.scatter(DNI['Donation_Deposit_Date'], DNI['Donation_Amount'])\r\n",
        "ax.set_xlabel('Date')\r\n",
        "ax.set_ylabel('Donation')\r\n",
        "plt.show()"
      ],
      "id": "Qdh6wQJKYLOz",
      "execution_count": null,
      "outputs": []
    },
    {
      "cell_type": "code",
      "metadata": {
        "id": "short-concentrate"
      },
      "source": [
        ""
      ],
      "id": "short-concentrate",
      "execution_count": null,
      "outputs": []
    }
  ]
}